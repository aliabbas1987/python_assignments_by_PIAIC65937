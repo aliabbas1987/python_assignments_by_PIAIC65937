{
 "cells": [
  {
   "cell_type": "markdown",
   "metadata": {},
   "source": [
    "Purpose of this assignment is give introduction about 5 predefined python functions."
   ]
  },
  {
   "cell_type": "markdown",
   "metadata": {},
   "source": [
    "### 1) input()"
   ]
  },
  {
   "cell_type": "markdown",
   "metadata": {},
   "source": [
    "The input() function reads a line from input, converts into a string and returns it. It take single option argument."
   ]
  },
  {
   "cell_type": "markdown",
   "metadata": {},
   "source": [
    "Following example reads input from user and display the input."
   ]
  },
  {
   "cell_type": "code",
   "execution_count": 20,
   "metadata": {},
   "outputs": [
    {
     "name": "stdout",
     "output_type": "stream",
     "text": [
      "What is your name? Ali Abbas\n",
      "Your name is:  Ali Abbas\n"
     ]
    }
   ],
   "source": [
    "user_input = input(\"What is your name? \") #getting input from the user\n",
    "print(\"Your name is: \", user_input) #displaying input entered by user"
   ]
  },
  {
   "cell_type": "markdown",
   "metadata": {},
   "source": [
    "### 2) len() "
   ]
  },
  {
   "cell_type": "markdown",
   "metadata": {},
   "source": [
    "The len() function returns the number of items in an object. Space in a string will also count in lenght. It take one argument that is mandatory to pass, if we don't pass the argument there will be type error exception.  "
   ]
  },
  {
   "cell_type": "code",
   "execution_count": 5,
   "metadata": {},
   "outputs": [
    {
     "name": "stdout",
     "output_type": "stream",
     "text": [
      "15\n"
     ]
    }
   ],
   "source": [
    "name_string = \"PIAIC AI Batch3\" #string\n",
    "print(len(name_string)) #displaying string"
   ]
  },
  {
   "cell_type": "markdown",
   "metadata": {},
   "source": [
    "### 3) round() "
   ]
  },
  {
   "cell_type": "markdown",
   "metadata": {},
   "source": [
    "The round() function returns the floating point number rounded off to the given ndigits digits after the decimal point. If no ndigits is provided, it rounds off the number to the nearest integer. "
   ]
  },
  {
   "cell_type": "code",
   "execution_count": 7,
   "metadata": {},
   "outputs": [
    {
     "name": "stdout",
     "output_type": "stream",
     "text": [
      "4\n",
      "3.667\n"
     ]
    }
   ],
   "source": [
    "given_input = 3.666666 #input to be rounded \n",
    "print(round(given_input)) #rounding and displaying given input\n",
    "given_input = 3.666666 #input to be rounded \n",
    "print(round(given_input,3)) #rounding and displaying given input"
   ]
  },
  {
   "cell_type": "markdown",
   "metadata": {},
   "source": [
    "### 4) sum()"
   ]
  },
  {
   "cell_type": "markdown",
   "metadata": {},
   "source": [
    "The sum() function adds the items and returns the sum. It takes list of numbers to be added and one optional argument defualt number to be added."
   ]
  },
  {
   "cell_type": "code",
   "execution_count": 13,
   "metadata": {},
   "outputs": [
    {
     "name": "stdout",
     "output_type": "stream",
     "text": [
      "7\n",
      "17\n"
     ]
    }
   ],
   "source": [
    "number_list = [3,4] #list of numbers\n",
    "defualt_number = 10 #optional number\n",
    "numbersSum = sum(number_list)# parameter is not provided\n",
    "print(numbersSum)\n",
    "numbersSum = sum(number_list,defualt_number)# optional parameter is not provided\n",
    "print(numbersSum)"
   ]
  },
  {
   "cell_type": "markdown",
   "metadata": {},
   "source": [
    "### 5)  count()"
   ]
  },
  {
   "cell_type": "markdown",
   "metadata": {},
   "source": [
    "The string count() funciton returns the number of occurrences of a substring in the given string. It take three arguments as input, one is mandatory that is substring and two are optional those are start from where search need to be start and end from where search need to be end. "
   ]
  },
  {
   "cell_type": "code",
   "execution_count": 1,
   "metadata": {},
   "outputs": [
    {
     "name": "stdout",
     "output_type": "stream",
     "text": [
      "The count after limit is: 1\n",
      "The count without any limit is: 6\n"
     ]
    }
   ],
   "source": [
    "user_string = \"This funciton returns the number of occurrences of a substring in the given string.\" # define string\n",
    "substring = \"s\" #sub string to be searched\n",
    "count = user_string.count(substring, 8, 25) # count after first 's' and before the last 's'\n",
    "print(\"The count after limit is:\", count)# print count\n",
    "count = user_string.count(substring) # count with no limit\n",
    "print(\"The count without any limit is:\", count)# print count"
   ]
  },
  {
   "cell_type": "markdown",
   "metadata": {},
   "source": [
    "End of assignment."
   ]
  }
 ],
 "metadata": {
  "kernelspec": {
   "display_name": "Python 3",
   "language": "python",
   "name": "python3"
  },
  "language_info": {
   "codemirror_mode": {
    "name": "ipython",
    "version": 3
   },
   "file_extension": ".py",
   "mimetype": "text/x-python",
   "name": "python",
   "nbconvert_exporter": "python",
   "pygments_lexer": "ipython3",
   "version": "3.7.4"
  }
 },
 "nbformat": 4,
 "nbformat_minor": 2
}
